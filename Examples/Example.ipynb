{
 "cells": [
  {
   "cell_type": "markdown",
   "metadata": {},
   "source": [
    "# Using foambryo\n",
    "\n",
    "In this notebook, we'll see:\n",
    "- How to install foambryo,\n",
    "- What are the inputs of foambryo,\n",
    "- How to compute relative tensions and pressures insides cells,\n",
    "- How to plot these forces using the foambryo viewer.\n",
    "\n",
    "# 0) Installation\n",
    "\n",
    "Foambryo is available on pyPI such that you can just use pip !\n",
    "\n",
    "- if you don't need any visualization, use `pip install foambryo`.\n",
    "- if you want to use the foambryo viewer to visualize the forces on a 3D mesh, use `pip install \"foambryo[viewing]\"`.\n",
    "\n",
    "In this notebook we'll show how to visualize the results, so we choose the later option."
   ]
  },
  {
   "cell_type": "code",
   "execution_count": null,
   "metadata": {},
   "outputs": [],
   "source": [
    "! pip install \"foambryo[viewing]\""
   ]
  },
  {
   "cell_type": "code",
   "execution_count": 1,
   "metadata": {},
   "outputs": [
    {
     "name": "stdout",
     "output_type": "stream",
     "text": [
      "/Users/kyamauch/Documents/miniforge3/envs/force-inference/bin/python\n"
     ]
    }
   ],
   "source": [
    "!which python"
   ]
  },
  {
   "cell_type": "markdown",
   "metadata": {},
   "source": [
    "# 1) Prepare an inference mesh\n",
    "\n",
    "Foambryo actually computes tensions and pressures from a datastructure called a DCEL mesh. Foambryo can create such a mesh from 2 sources:\n",
    "- an instance segmentation mask, using the Delaunay-Watershed-3D algorithm,\n",
    "- a multimaterial mesh.\n",
    "\n",
    "We provide easy functions to have a mesh ready for force inference:"
   ]
  },
  {
   "cell_type": "code",
   "execution_count": 2,
   "metadata": {},
   "outputs": [
    {
     "name": "stdout",
     "output_type": "stream",
     "text": [
      "Computing EDT ...\n",
      "EDT computed in  0.72\n",
      "Searching local extremas ...\n",
      "Number of local minimas : 6358\n",
      "Number of local maxes : 153\n",
      "Delaunay Tesselation built in 0.27 seconds\n",
      "Graph build in  0.693\n",
      "Watershed done in 0.253 seconds.\n"
     ]
    }
   ],
   "source": [
    "import skimage.io as io\n",
    "from dw3d.io import load_rec\n",
    "from foambryo import dcel_mesh_from_file, dcel_mesh_from_multimaterial_mesh, dcel_mesh_from_segmentation_mask\n",
    "\n",
    "# 1) From a segmentation mask\n",
    "image_path = \"../data/Segmentations/Benchmark_labels.tif\"\n",
    "segmentation_mask = io.imread(image_path)  # open segmentation image.\n",
    "# If here you have a problem, make sure you have git lfs installed and run git lfs pull to really download this large file.\n",
    "\n",
    "dcel_mesh_1 = dcel_mesh_from_segmentation_mask(segmentation_mask, min_distance=3, print_info=True)  # DCEL mesh ready for force inference !\n",
    "# Note: mesh reconstruction from a segmentation mask can take some time.\n",
    "\n",
    "# 2) From a multimaterial mesh file (3D triangle mesh + material data)\n",
    "dcel_mesh_2 = dcel_mesh_from_file(\"../data/Meshes/simple_mesh.vtk\")\n",
    "\n",
    "# 3) From an opened multimaterial mesh (3 arrays: points, triangles, labels/materials)\n",
    "# Here we open a mesh to simulate the situation:\n",
    "points, triangles, labels = load_rec(\"../data/Meshes/Benchmark_original_mesh.rec\")\n",
    "dcel_mesh_3 = dcel_mesh_from_multimaterial_mesh(points, triangles, labels)"
   ]
  },
  {
   "cell_type": "markdown",
   "metadata": {},
   "source": [
    "# 2) Force Inference\n",
    "\n",
    "Now that we have a DCEL mesh, we can easily compute relative pressures between cells and relative tensions at interfaces between cells (or with the exterior region)."
   ]
  },
  {
   "cell_type": "code",
   "execution_count": 3,
   "metadata": {},
   "outputs": [],
   "source": [
    "from foambryo import infer_forces\n",
    "\n",
    "# select mesh\n",
    "dcel_mesh = dcel_mesh_1\n",
    "\n",
    "# infer both tensions and pressures\n",
    "tensions, pressures = infer_forces(dcel_mesh)"
   ]
  },
  {
   "cell_type": "markdown",
   "metadata": {},
   "source": [
    "The outputs are simple data structures:"
   ]
  },
  {
   "cell_type": "code",
   "execution_count": 4,
   "metadata": {},
   "outputs": [
    {
     "name": "stdout",
     "output_type": "stream",
     "text": [
      "pressures={0: 0, np.int64(1): np.float64(0.017742905051825082), np.int64(2): np.float64(0.03927119387118719), np.int64(3): np.float64(0.03690598205451832), np.int64(4): np.float64(0.04492606222374091), np.int64(5): np.float64(0.044045323227494965), np.int64(6): np.float64(0.033135580447285165)}\n",
      "tensions={(np.int64(0), np.int64(1)): np.float64(0.47342023816347106), (np.int64(0), np.int64(2)): np.float64(0.8753760645516024), (np.int64(0), np.int64(3)): np.float64(0.867027772295751), (np.int64(0), np.int64(4)): np.float64(1.0036769829654757), (np.int64(0), np.int64(5)): np.float64(0.9725211571313266), (np.int64(0), np.int64(6)): np.float64(0.8276201845764745), (np.int64(1), np.int64(2)): np.float64(0.6857833446078545), (np.int64(1), np.int64(3)): np.float64(0.861349824943724), (np.int64(1), np.int64(4)): np.float64(1.002242342907234), (np.int64(1), np.int64(5)): np.float64(1.0469225590458329), (np.int64(1), np.int64(6)): np.float64(0.8058025358044713), (np.int64(2), np.int64(3)): np.float64(1.0464774350284478), (np.int64(2), np.int64(4)): np.float64(1.4698428080484314), (np.int64(2), np.int64(6)): np.float64(1.1381418534665038), (np.int64(3), np.int64(6)): np.float64(0.5625781065629598), (np.int64(4), np.int64(5)): np.float64(1.7008682638227197), (np.int64(4), np.int64(6)): np.float64(1.1559003989755883), (np.int64(5), np.int64(6)): np.float64(1.5044036333027737)}\n"
     ]
    }
   ],
   "source": [
    "# pressures is a dictionary that maps cell index to pressure force. 0 is the exterior.\n",
    "print(f\"{pressures=}\")\n",
    "\n",
    "# tensions is a dictionary that maps cells interfaces (cell index 1, cell index 2) to tension force. 0 is the exterior.\n",
    "print(f\"{tensions=}\")"
   ]
  },
  {
   "cell_type": "markdown",
   "metadata": {},
   "source": [
    "You can also compute tensions only, but for the pressures, you need to have first computed the tensions:"
   ]
  },
  {
   "cell_type": "code",
   "execution_count": 5,
   "metadata": {},
   "outputs": [],
   "source": [
    "from foambryo import infer_pressures, infer_tensions\n",
    "\n",
    "tensions = infer_tensions(dcel_mesh)\n",
    "\n",
    "pressures = infer_pressures(dcel_mesh, tensions)"
   ]
  },
  {
   "cell_type": "code",
   "execution_count": 6,
   "metadata": {},
   "outputs": [
    {
     "data": {
      "text/plain": [
       "{(np.int64(0), np.int64(1)): np.float64(0.47342023816347106),\n",
       " (np.int64(0), np.int64(2)): np.float64(0.8753760645516024),\n",
       " (np.int64(0), np.int64(3)): np.float64(0.867027772295751),\n",
       " (np.int64(0), np.int64(4)): np.float64(1.0036769829654757),\n",
       " (np.int64(0), np.int64(5)): np.float64(0.9725211571313266),\n",
       " (np.int64(0), np.int64(6)): np.float64(0.8276201845764745),\n",
       " (np.int64(1), np.int64(2)): np.float64(0.6857833446078545),\n",
       " (np.int64(1), np.int64(3)): np.float64(0.861349824943724),\n",
       " (np.int64(1), np.int64(4)): np.float64(1.002242342907234),\n",
       " (np.int64(1), np.int64(5)): np.float64(1.0469225590458329),\n",
       " (np.int64(1), np.int64(6)): np.float64(0.8058025358044713),\n",
       " (np.int64(2), np.int64(3)): np.float64(1.0464774350284478),\n",
       " (np.int64(2), np.int64(4)): np.float64(1.4698428080484314),\n",
       " (np.int64(2), np.int64(6)): np.float64(1.1381418534665038),\n",
       " (np.int64(3), np.int64(6)): np.float64(0.5625781065629598),\n",
       " (np.int64(4), np.int64(5)): np.float64(1.7008682638227197),\n",
       " (np.int64(4), np.int64(6)): np.float64(1.1559003989755883),\n",
       " (np.int64(5), np.int64(6)): np.float64(1.5044036333027737)}"
      ]
     },
     "execution_count": 6,
     "metadata": {},
     "output_type": "execute_result"
    }
   ],
   "source": [
    "tensions"
   ]
  },
  {
   "cell_type": "markdown",
   "metadata": {},
   "source": [
    "An important thing to understand is that we compute relative tensions and pressures. As such, when computing pressures, you need to give a base pressure (the pressure of the exterior, the medium) ; when computing tensions, you need to give a mean tension.\n",
    "\n",
    "By default, the base pressure is 0 while the mean tension is 1. You can always set it as desired:"
   ]
  },
  {
   "cell_type": "code",
   "execution_count": 7,
   "metadata": {},
   "outputs": [],
   "source": [
    "# previous lines where equivalent to these:\n",
    "tensions, pressures = infer_forces(dcel_mesh, mean_tension=1, base_pressure=0)\n",
    "tensions = infer_tensions(dcel_mesh, mean_tension=1)\n",
    "pressures = infer_pressures(dcel_mesh, tensions, base_pressure=0)"
   ]
  },
  {
   "cell_type": "markdown",
   "metadata": {},
   "source": [
    "Finally, foambryo implements several strategies to compute tensions and pressures. The default strategies give good results, but you can explore the other strategies if you want."
   ]
  },
  {
   "cell_type": "code",
   "execution_count": 8,
   "metadata": {},
   "outputs": [
    {
     "name": "stdout",
     "output_type": "stream",
     "text": [
      "Available pressure computation methods: ['Variational', 'Laplace', 'WeightedLaplace'].\n",
      "Available tension computation methods: ['YoungDupre', 'ProjectionYoungDupre', 'Equilibrium', 'Cotan', 'InvCotan', 'Lami', 'InvLami', 'LogLami', 'Variational'].\n"
     ]
    }
   ],
   "source": [
    "from foambryo import PressureComputationMethod, TensionComputationMethod\n",
    "\n",
    "print(f\"Available pressure computation methods: {[pressure_method.name for pressure_method in PressureComputationMethod]}.\")\n",
    "\n",
    "print(f\"Available tension computation methods: {[tension_method.name for tension_method in TensionComputationMethod]}.\")\n",
    "\n",
    "# previous lines where equivalent to these:\n",
    "tensions, pressures = infer_forces(dcel_mesh, mode_tension=TensionComputationMethod.YoungDupre, mode_pressure=PressureComputationMethod.Variational)\n",
    "tensions = infer_tensions(dcel_mesh, mode=TensionComputationMethod.YoungDupre)\n",
    "pressures = infer_pressures(dcel_mesh, tensions, mode=PressureComputationMethod.Variational)"
   ]
  },
  {
   "cell_type": "markdown",
   "metadata": {},
   "source": [
    "# 3) Plotting forces\n",
    "\n",
    "Now that we have tensions and pressures, foambryo can also plot the mesh with the values.\n",
    "\n",
    "To plot pressures:"
   ]
  },
  {
   "cell_type": "code",
   "execution_count": 9,
   "metadata": {},
   "outputs": [
    {
     "name": "stdout",
     "output_type": "stream",
     "text": [
      "Extremas of pressures plotted:  0 0.04492606222374091\n",
      "[polyscope] Backend: openGL3_glfw -- Loaded openGL version: 4.1 Metal - 89.4\n"
     ]
    }
   ],
   "source": [
    "from foambryo.viewing import plot_pressure_inference\n",
    "\n",
    "# Note: only the mesh in necessary. If pressures are not provided, they'll be computed.\n",
    "plot_pressure_inference(dcel_mesh, pressures)"
   ]
  },
  {
   "cell_type": "markdown",
   "metadata": {},
   "source": [
    "To plot tensions:"
   ]
  },
  {
   "cell_type": "code",
   "execution_count": 8,
   "metadata": {},
   "outputs": [
    {
     "name": "stdout",
     "output_type": "stream",
     "text": [
      "Extremas of the Surface Tensions plotted :  0.5492044263030357 1.5338733278807724\n"
     ]
    }
   ],
   "source": [
    "from foambryo.viewing import plot_tension_inference\n",
    "\n",
    "# Note: only the mesh in necessary. If tensions are not provided, they'll be computed.\n",
    "# For tensions, it's better to scatter the cells\n",
    "plot_tension_inference(dcel_mesh, tensions, scattered=True, scatter_coeff=1)"
   ]
  },
  {
   "cell_type": "markdown",
   "metadata": {},
   "source": [
    "To plot both on the same viewer:"
   ]
  },
  {
   "cell_type": "code",
   "execution_count": null,
   "metadata": {},
   "outputs": [],
   "source": [
    "from foambryo.viewing import plot_force_inference\n",
    "\n",
    "plot_force_inference(dcel_mesh, tensions, pressures)"
   ]
  },
  {
   "cell_type": "markdown",
   "metadata": {},
   "source": [
    "Many more data can be plotted, such s the curvature, the area and volume derivatives..."
   ]
  },
  {
   "cell_type": "code",
   "execution_count": null,
   "metadata": {},
   "outputs": [],
   "source": [
    "plot_force_inference(dcel_mesh, tensions, pressures, scalar_quantities=True)"
   ]
  },
  {
   "cell_type": "markdown",
   "metadata": {},
   "source": [
    "Plotting functions have many interesting parameters, don't hesitate to play with them !"
   ]
  }
 ],
 "metadata": {
  "kernelspec": {
   "display_name": "Python 3 (ipykernel)",
   "language": "python",
   "name": "python3"
  },
  "language_info": {
   "codemirror_mode": {
    "name": "ipython",
    "version": 3
   },
   "file_extension": ".py",
   "mimetype": "text/x-python",
   "name": "python",
   "nbconvert_exporter": "python",
   "pygments_lexer": "ipython3",
   "version": "3.11.13"
  }
 },
 "nbformat": 4,
 "nbformat_minor": 4
}
