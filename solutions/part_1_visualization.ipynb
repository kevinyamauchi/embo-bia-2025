{
 "cells": [
  {
   "cell_type": "markdown",
   "id": "a99073df-29f9-40bf-b5f0-72d505b35196",
   "metadata": {},
   "source": [
    "# Notebook 1: interactive visualization of morphological data\n",
    "In this notebook, we will learn about the core datatypes used in morphological analysis. We will also learn how to visualize them.\n",
    "\n",
    "## The compute environment\n",
    "We will be using Jupyter Lab notebooks and Python for interactive analysis and [napari](http://napari.org) for interactive visualization.\n",
    "\n",
    "## The viewer\n",
    "As in the previous notebook, we will use napari to visualize our data. We will start by launching the viewer."
   ]
  },
  {
   "cell_type": "code",
   "execution_count": 2,
   "id": "92fdaeac-3149-4031-834f-e2a29c3aee2a",
   "metadata": {},
   "outputs": [],
   "source": [
    "import napari\n",
    "\n",
    "viewer = napari.Viewer()"
   ]
  },
  {
   "cell_type": "markdown",
   "id": "9054d96b-888d-49d4-91e0-8e98e44ac8a3",
   "metadata": {},
   "source": [
    "## Images\n",
    "\n",
    "Digital images are often represented as matrices of floating point values. Here we use napari to visualize an image.\n",
    "\n",
    "Start by making a 2D test image with the following properties\n",
    "- numpy array\n",
    "- 20 pixels x 20 pixels\n",
    "- in the upper left quadrant has a value of 0.5\n",
    "- in the lower left quadrant has a value of 1.0\n",
    "- a value of 0.0 everywhere else."
   ]
  },
  {
   "cell_type": "code",
   "execution_count": 5,
   "id": "f829a73a-16b4-41b7-8678-31bf81c5c086",
   "metadata": {},
   "outputs": [
    {
     "data": {
      "text/plain": [
       "<Image layer 'image' at 0x1497b3850>"
      ]
     },
     "execution_count": 5,
     "metadata": {},
     "output_type": "execute_result"
    }
   ],
   "source": [
    "import numpy as np\n",
    "\n",
    "# the image will be 20x20 pixels\n",
    "image_shape = (20, 20)\n",
    "\n",
    "# start with an array of zeros in the desired shape\n",
    "image = np.zeros(image_shape)\n",
    "\n",
    "# fill in the desired values\n",
    "# upper left quadrant\n",
    "image[0:10, 0:10] = 1.0\n",
    "\n",
    "# lower left quandrant\n",
    "image[10:20, 10:20] = 0.5\n",
    "\n",
    "# add the image to the viewer, use the viridis colormap\n",
    "viewer.add_image(image, colormap=\"viridis\")"
   ]
  },
  {
   "cell_type": "markdown",
   "id": "1a70506d-fcb5-40da-af54-0660dce36c1c",
   "metadata": {},
   "source": [
    "## Label images\n",
    "\n",
    "Label images are a special subtype of images where instead of continuous values, the voxels are integer values that indicate instance or semantic class membership. That is, all pixels with the same value are considered to be a member of the instance/class. These are often used for segmentations. For example, in a cell segmentation, each cell would be given a unique value.\n",
    "\n",
    "Overlay a demo 2D label image on top of the image you created above. The image should have the following properties:\n",
    "\n",
    "- numpy array\n",
    "- 20 pixels x 20 pixels\n",
    "- uint16 datatype\n",
    "- in the upper left quadrant has a value of 1\n",
    "- in the lower left quadrant has a value of 2\n",
    "- a value of 0 everywhere else.\n",
    "\n",
    "Hint:\n",
    "- see the [napari labels layer docs page](https://napari.org/0.6.2/howtos/layers/labels.html#controlling-the-labels-layer-from-the-console) for more information\n",
    "- you can add label images to the viewer using viewer.add_labels()"
   ]
  },
  {
   "cell_type": "code",
   "execution_count": 7,
   "id": "b62ab231-7fa4-48bb-8c9e-c17f64f12651",
   "metadata": {},
   "outputs": [
    {
     "data": {
      "text/plain": [
       "<Labels layer 'labels' at 0x14fd3ef50>"
      ]
     },
     "execution_count": 7,
     "metadata": {},
     "output_type": "execute_result"
    }
   ],
   "source": [
    "# the image will be 20x20 pixels\n",
    "labels_shape = (20, 20)\n",
    "\n",
    "# start with an array of zeros in the desired shape\n",
    "labels = np.zeros(\n",
    "    labels_shape,\n",
    "    dtype=np.uint16\n",
    ")\n",
    "\n",
    "# fill in the desired values\n",
    "# upper left quadrant\n",
    "labels[0:10, 0:10] = 1\n",
    "\n",
    "# lower left quandrant\n",
    "labels[10:20, 10:20] = 2\n",
    "\n",
    "# add the image to the viewer, use the viridis colormap\n",
    "viewer.add_labels(labels)"
   ]
  },
  {
   "cell_type": "markdown",
   "id": "d37f1826-335a-41d6-86af-30d240e292bf",
   "metadata": {},
   "source": [
    "Your viewer should now look like the screenshot below. Notice that the labels layer renders the values of 0 as transparent. 0 is a special label value that is treated as the background label. You can turn the visibility of the layers on/off by clicking the \"eye\" icon in the layer list.\n",
    "\n",
    "<img src=\"resources/napari-labels.png\" alt=\"napari labels layer\">"
   ]
  },
  {
   "cell_type": "markdown",
   "id": "29e373ed-4cf7-43d0-a031-89b087d195cb",
   "metadata": {},
   "source": [
    "## Surface Meshes\n",
    "\n",
    "Surface Meshes are a way to represent surfaces as a collection of polygons. A common variant are triangular meshes where the surfaces are represented as a collection of triangles. We generally represent meshes as a collection of vertices and faces. The vertices are a (n_vertices, n_dimensions) array where each row is the coordinate of a vertex. The faces are an array of (n_faces, 3) containing the indices of the vertices for each face. That is each row in the face array is one triangle. Each column in that row is the index of one vertex in that triangle.\n",
    "\n",
    "See the example below where we add a simple 2 triangle mesh to the viewer. There are 4 vertices and 2 faces (triangles)."
   ]
  },
  {
   "cell_type": "code",
   "execution_count": 10,
   "id": "7a1b4709-6c77-4e69-9a12-6b239866d794",
   "metadata": {},
   "outputs": [],
   "source": [
    "# each row is the coordinate of one vertex\n",
    "vertices = np.array(\n",
    "    [\n",
    "        [0, 0],\n",
    "        [9, 0],\n",
    "        [0, 9],\n",
    "        [9, 9]\n",
    "    ]\n",
    ")\n",
    "\n",
    "# each row are the vertex indices of one face\n",
    "faces = np.array(\n",
    "    [\n",
    "        [0, 1, 2],\n",
    "        [1, 2, 3]\n",
    "    ]\n",
    ")\n",
    "\n",
    "# we can add the mesh to the viewer as as a surface layer.\n",
    "surface_layer_data = (vertices, faces)\n",
    "surface_layer = viewer.add_surface(surface_layer_data)\n",
    "\n",
    "# we can visualize the edges of the triangles as a \"wireframe\"\n",
    "surface_layer.wireframe.visible = True\n",
    "\n"
   ]
  },
  {
   "cell_type": "markdown",
   "id": "c37ef10c-4a82-4f9e-9b03-162466789b8f",
   "metadata": {},
   "source": [
    "Your viewer should now look like the screenshot below. Note that the vertex coordinates align with the *center* of the segmentation voxels.\n",
    "\n",
    "<img src=\"resources/napari-surface_0.png\" alt=\"napari surface layer\">\n",
    "\n",
    "Next we can color the mesh. We can optionally pass values for each vertex when we construct the layer. A colormap will be applied to these vertex values to color the triangles. Play with the vertex values and colormap to see how the colors are interpolated between the vertices (see [barycentric coordinates/interpolation](https://en.wikipedia.org/wiki/Barycentric_coordinate_system)).\n",
    "\n",
    "<img src=\"resources/napari-surface_1.png\" alt=\"napari surface layer\">"
   ]
  },
  {
   "cell_type": "code",
   "execution_count": 13,
   "id": "60057567-eeaf-480e-91ee-192ec9fc3c8a",
   "metadata": {},
   "outputs": [],
   "source": [
    "# each row is the coordinate of one vertex\n",
    "vertices = np.array(\n",
    "    [\n",
    "        [0, 0],\n",
    "        [9, 0],\n",
    "        [0, 9],\n",
    "        [9, 9]\n",
    "    ]\n",
    ")\n",
    "\n",
    "# each row are the vertex indices of one face\n",
    "faces = np.array(\n",
    "    [\n",
    "        [0, 1, 2],\n",
    "        [1, 2, 3]\n",
    "    ]\n",
    ")\n",
    "\n",
    "# color the vertices by this value. We need one value per vertex.\n",
    "vertex_values = np.array(\n",
    "    [1, 1, 1, 0]\n",
    ")\n",
    "\n",
    "# we can add the mesh to the viewer as as a surface layer.\n",
    "surface_layer_data_colors = (vertices, faces, vertex_values)\n",
    "surface_layer_colors = viewer.add_surface(\n",
    "    surface_layer_data_colors,\n",
    "    colormap=\"ice\"\n",
    ")\n",
    "\n",
    "# we can visualize the edges of the triangles as a \"wireframe\"\n",
    "surface_layer_colors.wireframe.visible = True"
   ]
  },
  {
   "cell_type": "markdown",
   "id": "101ab12a-409f-41b7-adb5-d007245f9e44",
   "metadata": {},
   "source": [
    "Bonus Exercise: Try to make a 3D triangular mesh of a cube. To do so, you just need to give the vertices 3D coordiantes. You can represent the cube as 6 faces, with each face represented as 2 triangles as above. Note that you will have to switch the viewer to 3D rendering mode to properly view the mesh."
   ]
  },
  {
   "cell_type": "code",
   "execution_count": null,
   "id": "8101e778-bfe8-4dac-80c3-35afa3fe2cdf",
   "metadata": {},
   "outputs": [],
   "source": []
  }
 ],
 "metadata": {
  "kernelspec": {
   "display_name": "Python 3 (ipykernel)",
   "language": "python",
   "name": "python3"
  },
  "language_info": {
   "codemirror_mode": {
    "name": "ipython",
    "version": 3
   },
   "file_extension": ".py",
   "mimetype": "text/x-python",
   "name": "python",
   "nbconvert_exporter": "python",
   "pygments_lexer": "ipython3",
   "version": "3.11.11"
  }
 },
 "nbformat": 4,
 "nbformat_minor": 5
}
