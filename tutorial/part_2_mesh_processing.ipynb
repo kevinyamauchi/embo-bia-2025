{
 "cells": [
  {
   "cell_type": "markdown",
   "id": "a038acc3-a98c-42b6-acd3-45c514a12632",
   "metadata": {},
   "source": [
    "# Notebook 2: mesh processing\n",
    "\n",
    "In this notebook, we will learn some basics about producing meshes from segmentations. \n",
    "\n",
    "## Load the data and visualize\n",
    "We will load a segmentation from the path below. The segmentation is generated from a simulation of a 4 cell embryo ([SimuCell3D](https://www.nature.com/articles/s43588-024-00620-9)).\n",
    "\n",
    "In the cell below launch the napari viewer and add the segmentation as a Labels layer. Switch to 3D mode and view the data.\n",
    "\n",
    "<img src=\"resources/napari_embryo_segmentation.png\" alt=\"napari surface layer\">"
   ]
  },
  {
   "cell_type": "code",
   "execution_count": 2,
   "id": "54aa00e0-7bd9-43a8-8a6b-5c272cc01d9d",
   "metadata": {},
   "outputs": [],
   "source": [
    "from skimage.io import imread\n",
    "\n",
    "segmentation_path = \"../data/part_2/4_cells_simulation_0.tif\"\n",
    "segmentation = imread(segmentation_path) "
   ]
  },
  {
   "cell_type": "code",
   "execution_count": 3,
   "id": "f4e45ff0-dac3-4621-84d2-68fa45a104e1",
   "metadata": {},
   "outputs": [
    {
     "data": {
      "text/plain": [
       "<Labels layer 'segmentation' at 0x112a379d0>"
      ]
     },
     "execution_count": 3,
     "metadata": {},
     "output_type": "execute_result"
    }
   ],
   "source": [
    "import napari\n",
    "\n",
    "viewer = napari.Viewer()\n",
    "viewer.add_labels(segmentation)\n"
   ]
  },
  {
   "cell_type": "markdown",
   "id": "5d07d568-a7de-42b9-a354-350fa9a441b4",
   "metadata": {},
   "source": [
    "## Converting a segmentation to a mesh\n",
    "\n",
    "First, we will extract one cell from the segmentation to turn it into a mesh. Start by inspecting the data. What values are present? Hint: you can use the numpy unique function to find unique values in the array."
   ]
  },
  {
   "cell_type": "code",
   "execution_count": 4,
   "id": "9a80f883-e538-461a-b307-9ae0d89474c3",
   "metadata": {},
   "outputs": [
    {
     "name": "stdout",
     "output_type": "stream",
     "text": [
      "Label values: [0 1 2 3 4]\n"
     ]
    }
   ],
   "source": [
    "import numpy as np\n",
    "\n",
    "label_values = np.unique(segmentation)\n",
    "print(f\"Label values: {label_values}\")"
   ]
  },
  {
   "cell_type": "markdown",
   "id": "b2c2ee33-38bd-460a-8295-39a55f0a3be8",
   "metadata": {},
   "source": [
    "How many cells are there? Remember that 0 has a special meaning in label images.\n",
    "\n",
    "Select one of the cell labels and create a binary mask with only that cell. Add it to the viewer as a new labels layer.\n",
    "\n",
    "<img src=\"resources/extracted_cell.png\" alt=\"napari surface layer\">"
   ]
  },
  {
   "cell_type": "code",
   "execution_count": 5,
   "id": "f3f0f039-01c0-4ac0-ba36-c542fb9d7dbb",
   "metadata": {},
   "outputs": [
    {
     "data": {
      "text/plain": [
       "<Labels layer 'Labels' at 0x176c0d650>"
      ]
     },
     "execution_count": 5,
     "metadata": {},
     "output_type": "execute_result"
    }
   ],
   "source": [
    "selected_label_value = 1\n",
    "\n",
    "# make the mask that is True for voxels\n",
    "# with the value of the selected label value\n",
    "cell_mask = segmentation == selected_label_value\n",
    "\n",
    "\n",
    "# add it to the viewer as a labels image (convert to uint datatype)\n",
    "viewer.add_labels(cell_mask.astype(np.uint16))"
   ]
  },
  {
   "cell_type": "markdown",
   "id": "52f44e36-63d5-41ae-8f1d-d7ff6dc4f614",
   "metadata": {},
   "source": [
    "Now we will convert the cell mask into a mesh using the [marching cubes algorithm](https://en.wikipedia.org/wiki/Marching_cubes). This converts the surface of the cell mask into a triangulated surface.\n",
    "\n",
    "Hints:\n",
    "- see the [skimage marching cubes docs](https://scikit-image.org/docs/0.25.x/api/skimage.measure.html#skimage.measure.marching_cubes)\n",
    "- see the [skimage marching cubes example](https://scikit-image.org/docs/0.25.x/auto_examples/edges/plot_marching_cubes.html)\n",
    "- We only need the vertices and faces\n",
    "- Set the new surface layer to be the only layer that is visible. Overlaying the segmentation and mesh can be confusing as they overlap.\n",
    "- Set the surface layer wireframe to be visible (as before) to visualize the triangles in the mesh."
   ]
  },
  {
   "cell_type": "code",
   "execution_count": 6,
   "id": "50ea50b5-ce3a-4333-8131-e7d7812a47e1",
   "metadata": {},
   "outputs": [],
   "source": [
    "from skimage.measure import marching_cubes\n",
    "\n",
    "vertices, faces, _, _ = marching_cubes(cell_mask, 0)\n",
    "\n",
    "cell_mesh_layer = viewer.add_surface((vertices, faces))\n",
    "cell_mesh_layer.wireframe.visible = True"
   ]
  },
  {
   "cell_type": "markdown",
   "id": "25b9c70f-4775-44aa-9e3d-03e720311549",
   "metadata": {},
   "source": [
    "You should now see the mesh of cell. Be sure to set the surface layer wireframe to be visible (as before) to visualize the triangles in the mesh. Notice that the surface is quite bumpy. This is because the marching cubes algorithm uses the voxel surface to construct the surface, which gives this \"blocky\" appearance. In the notebook, we will try the surface reconstruction method introduced in Foambryo, which yields accurate and smooth surfaces\n",
    "\n",
    "<img src=\"resources/cell_mesh.png\" alt=\"napari surface layer\">"
   ]
  },
  {
   "cell_type": "markdown",
   "id": "9d09b7e2-092e-4897-ac2a-30526bbbf7dc",
   "metadata": {},
   "source": [
    "## Surface area\n",
    "\n",
    "We can use the trimesh library measure the surface area of the cell and then visualize it in napari.\n",
    "\n",
    "First we have to create the Trimesh object.\n"
   ]
  },
  {
   "cell_type": "code",
   "execution_count": 7,
   "id": "ae16302e-c44b-4eee-ba73-96406c27ce77",
   "metadata": {},
   "outputs": [],
   "source": [
    "import trimesh\n",
    "\n",
    "mesh = trimesh.Trimesh(\n",
    "    vertices=vertices,\n",
    "    faces=faces\n",
    ")"
   ]
  },
  {
   "cell_type": "markdown",
   "id": "0c13ec10-3548-4671-af7a-f8d1e8dd7265",
   "metadata": {},
   "source": [
    "Then we apply measure the surface area and add the mesh to the viewer."
   ]
  },
  {
   "cell_type": "code",
   "execution_count": 8,
   "id": "096614dd-f2fe-446d-b7cc-02f13687382c",
   "metadata": {},
   "outputs": [
    {
     "data": {
      "text/plain": [
       "<Surface layer 'Surface [1]' at 0x17eb0dc90>"
      ]
     },
     "execution_count": 8,
     "metadata": {},
     "output_type": "execute_result"
    }
   ],
   "source": [
    "surface_area = mesh.area\n",
    "\n",
    "# make the vertex values equal to the surface area\n",
    "n_vertices = vertices.shape[0]\n",
    "vertex_values = surface_area * np.ones((n_vertices,))\n",
    "\n",
    "viewer.add_surface((vertices, faces, vertex_values))"
   ]
  },
  {
   "cell_type": "markdown",
   "id": "b0e7570d-6453-4d87-88a0-18908f14e2e8",
   "metadata": {},
   "source": [
    "Note that all vertices have the same color because they have the same value. Try the bonus exercise below to visualize with different colors.\n",
    "\n",
    "\n",
    "<img src=\"resources/cell_mesh_color.png\" alt=\"napari surface layer\">"
   ]
  },
  {
   "cell_type": "markdown",
   "id": "4435860c-52fa-4633-9bf1-66426b32f504",
   "metadata": {},
   "source": [
    "## Bonus Exercise\n",
    "\n",
    "Write a function that measures the surface area of each cell in the segmentation. Add each cell mesh as a separate layer to the viewer and color by the cells by their surface area. Note that have to set the [contrast limits](https://napari.org/stable/api/napari.layers.Surface.html) for each layer to the same range to visualize the color map correctly."
   ]
  }
 ],
 "metadata": {
  "kernelspec": {
   "display_name": "Python 3 (ipykernel)",
   "language": "python",
   "name": "python3"
  },
  "language_info": {
   "codemirror_mode": {
    "name": "ipython",
    "version": 3
   },
   "file_extension": ".py",
   "mimetype": "text/x-python",
   "name": "python",
   "nbconvert_exporter": "python",
   "pygments_lexer": "ipython3",
   "version": "3.11.11"
  }
 },
 "nbformat": 4,
 "nbformat_minor": 5
}
