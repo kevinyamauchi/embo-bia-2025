{
 "cells": [
  {
   "cell_type": "markdown",
   "id": "c5e97e2c-faec-46ce-9611-669cca7c7e91",
   "metadata": {},
   "source": [
    "# Notebook 3: Force inference\n",
    "\n",
    "In this notebook, we will learn how to use [Foambryo](https://www.nature.com/articles/s41592-023-02084-7) for force inference from 3D images. \n",
    "\n",
    "## Load the data\n",
    "\n",
    "We will load the sample data from the Foambryo paper. Launch the napari viewer and add the segmentation as a labels layer. Explore the data. How many cells are there? \n",
    "\n",
    "<img src=\"resources/foambryo_labels.png\" alt=\"napari surface layer\">"
   ]
  },
  {
   "cell_type": "code",
   "execution_count": 2,
   "id": "c5971c6c-3ba1-4b21-b9ae-4b7d5758a851",
   "metadata": {},
   "outputs": [
    {
     "data": {
      "text/plain": [
       "<Labels layer 'segmentation_image' at 0x10700cc10>"
      ]
     },
     "execution_count": 2,
     "metadata": {},
     "output_type": "execute_result"
    }
   ],
   "source": [
    "import napari\n",
    "from skimage.io import imread\n",
    "\n",
    "segmentation_path = \"../data/part_3/Benchmark_labels.tif\"\n",
    "segmentation_image = imread(segmentation_path)\n",
    "\n",
    "viewer = napari.Viewer()\n",
    "viewer.add_labels(segmentation_image)"
   ]
  },
  {
   "cell_type": "markdown",
   "id": "42a42fe6-0999-4adb-92cd-b8e548c14870",
   "metadata": {},
   "source": [
    "We will use the Foambryo meshing pipeline to create the mesh. Note how much smoother the surfaces are.\n",
    "\n",
    "<img src=\"resources/foambryo_mesh.png\" alt=\"napari surface layer\">"
   ]
  },
  {
   "cell_type": "code",
   "execution_count": 11,
   "id": "131e3ff8-69dd-46d4-9a08-b369251c8285",
   "metadata": {},
   "outputs": [
    {
     "name": "stdout",
     "output_type": "stream",
     "text": [
      "Computing EDT ...\n",
      "EDT computed in  0.72\n",
      "Searching local extremas ...\n",
      "Number of local minimas : 6358\n",
      "Number of local maxes : 153\n",
      "Delaunay Tesselation built in 0.23 seconds\n",
      "Graph build in  0.676\n",
      "Watershed done in 0.2 seconds.\n"
     ]
    },
    {
     "data": {
      "text/plain": [
       "<Surface layer 'Surface' at 0x1785639d0>"
      ]
     },
     "execution_count": 11,
     "metadata": {},
     "output_type": "execute_result"
    }
   ],
   "source": [
    "from foambryo import dcel_mesh_from_segmentation_mask\n",
    "\n",
    "# construct the mesh\n",
    "dcel_mesh = dcel_mesh_from_segmentation_mask(\n",
    "    segmentation_image,\n",
    "    min_distance=3,\n",
    "    print_info=True\n",
    ")\n",
    "\n",
    "# add the mesh to the viewer\n",
    "vertices = dcel_mesh.v\n",
    "faces = dcel_mesh.f[:, 0:3]\n",
    "viewer.add_surface(\n",
    "    (\n",
    "        vertices, faces\n",
    "    )\n",
    ")\n"
   ]
  },
  {
   "cell_type": "markdown",
   "id": "dd9e3c12-0c7e-4500-b2bf-bbd20a1d422a",
   "metadata": {},
   "source": [
    "## Infer forces"
   ]
  },
  {
   "cell_type": "code",
   "execution_count": 12,
   "id": "1e52a1a8-a300-42ed-a3d5-02a5c77c6530",
   "metadata": {},
   "outputs": [],
   "source": [
    "from foambryo import infer_forces\n",
    "\n",
    "# infer both tensions and pressures\n",
    "tensions, pressures = infer_forces(dcel_mesh)"
   ]
  },
  {
   "cell_type": "markdown",
   "id": "86ffb45b-0dfd-4d3c-9ddd-2596d9c95174",
   "metadata": {},
   "source": [
    "The pressures are returned as a dictionary where the key is the label value of the cell and the value is the inferred pressure."
   ]
  },
  {
   "cell_type": "code",
   "execution_count": 14,
   "id": "28423f47-b6b1-4cdf-bb4b-0403803eb19b",
   "metadata": {},
   "outputs": [
    {
     "data": {
      "text/plain": [
       "{0: 0,\n",
       " np.int64(1): np.float64(0.01774290505182492),\n",
       " np.int64(2): np.float64(0.03927119387118682),\n",
       " np.int64(3): np.float64(0.036905982054518296),\n",
       " np.int64(4): np.float64(0.04492606222374094),\n",
       " np.int64(5): np.float64(0.04404532322749534),\n",
       " np.int64(6): np.float64(0.033135580447285165)}"
      ]
     },
     "execution_count": 14,
     "metadata": {},
     "output_type": "execute_result"
    }
   ],
   "source": [
    "pressures"
   ]
  },
  {
   "cell_type": "markdown",
   "id": "b0e790eb-eccb-4e8a-8c3e-42f7a326ea14",
   "metadata": {},
   "source": [
    "Recall that we are inferring one surface tension per interface. Each interface is either contacting two cells or one cell and background. The tensions are returned as a dictionary where the key are the label values for objects contacting the interface and the values are the inferred surface tensions. For example for the interface between cell 1 and background (label 0), the key would be `(0, 1)`."
   ]
  },
  {
   "cell_type": "code",
   "execution_count": 20,
   "id": "a3cf4ad0-0eab-4b80-89c1-875c1b5144e6",
   "metadata": {},
   "outputs": [
    {
     "data": {
      "text/plain": [
       "{(np.int64(0), np.int64(1)): np.float64(0.47342023816346546),\n",
       " (np.int64(0), np.int64(2)): np.float64(0.8753760645515956),\n",
       " (np.int64(0), np.int64(3)): np.float64(0.8670277722957505),\n",
       " (np.int64(0), np.int64(4)): np.float64(1.0036769829654764),\n",
       " (np.int64(0), np.int64(5)): np.float64(0.9725211571313337),\n",
       " (np.int64(0), np.int64(6)): np.float64(0.8276201845764745),\n",
       " (np.int64(1), np.int64(2)): np.float64(0.6857833446078454),\n",
       " (np.int64(1), np.int64(3)): np.float64(0.8613498249437229),\n",
       " (np.int64(1), np.int64(4)): np.float64(1.0022423429072338),\n",
       " (np.int64(1), np.int64(5)): np.float64(1.0469225590458409),\n",
       " (np.int64(1), np.int64(6)): np.float64(0.8058025358044711),\n",
       " (np.int64(2), np.int64(3)): np.float64(1.0464774350284418),\n",
       " (np.int64(2), np.int64(4)): np.float64(1.4698428080484245),\n",
       " (np.int64(2), np.int64(6)): np.float64(1.138141853466497),\n",
       " (np.int64(3), np.int64(6)): np.float64(0.5625781065629598),\n",
       " (np.int64(4), np.int64(5)): np.float64(1.700868263822727),\n",
       " (np.int64(4), np.int64(6)): np.float64(1.1559003989755887),\n",
       " (np.int64(5), np.int64(6)): np.float64(1.5044036333027806)}"
      ]
     },
     "execution_count": 20,
     "metadata": {},
     "output_type": "execute_result"
    }
   ],
   "source": [
    "# all surface tensions\n",
    "tensions"
   ]
  },
  {
   "cell_type": "code",
   "execution_count": 19,
   "id": "5fafdf1e-8950-4e6d-ba64-60d837b5e5bf",
   "metadata": {},
   "outputs": [
    {
     "data": {
      "text/plain": [
       "np.float64(0.47342023816346546)"
      ]
     },
     "execution_count": 19,
     "metadata": {},
     "output_type": "execute_result"
    }
   ],
   "source": [
    "# only surface tensions from interface between background and cell 1\n",
    "tensions[(0, 1)]"
   ]
  },
  {
   "cell_type": "markdown",
   "id": "638617f2-93be-4e7b-a869-2b861f5c68d7",
   "metadata": {},
   "source": [
    "## Compare surface tensions\n",
    "\n",
    "First we will compare the surface tensions across different types of interfaces. Make a histogram comparing the surface tension for interfaces that are touching the media/background (i.e., label value 0) and other cells (i.e., non-zero labels)"
   ]
  },
  {
   "cell_type": "code",
   "execution_count": 29,
   "id": "0c41020e-5832-4cc3-bc78-51c74aa0f9ed",
   "metadata": {},
   "outputs": [
    {
     "data": {
      "text/plain": [
       "Text(0.5, 0, 'Surface tension')"
      ]
     },
     "execution_count": 29,
     "metadata": {},
     "output_type": "execute_result"
    },
    {
     "data": {
      "image/png": "[encoded data removed]",
      "text/plain": [
       "<Figure size 640x480 with 1 Axes>"
      ]
     },
     "metadata": {},
     "output_type": "display_data"
    }
   ],
   "source": [
    "from matplotlib import pyplot as plt\n",
    "\n"
   ]
  },
  {
   "cell_type": "markdown",
   "id": "6d60ac96-9c73-4848-baad-fcc3caa268b1",
   "metadata": {},
   "source": [
    "Recall that the surface tensions are relative and to compare our inferred properties across samples, we should compare rations. Next, for each cell, take the ratio of it's cell-media surface tension to it's cell-cell surface tensions. This is approximately what is known as the compaction parameter and is known to be a mechanical driver of compaction in early mamallian embryogenesis ([Firmin et al., 2024](https://www.nature.com/articles/s41586-024-07351-x)). Plot a histogram of this ratio."
   ]
  },
  {
   "cell_type": "code",
   "execution_count": 36,
   "id": "a7109e1b-57e9-4307-8611-73580b80a511",
   "metadata": {},
   "outputs": [
    {
     "data": {
      "text/plain": [
       "(array([1., 0., 1., 0., 1., 2., 0., 0., 0., 1.]),\n",
       " array([0.53772083, 0.58923848, 0.64075614, 0.69227379, 0.74379145,\n",
       "        0.7953091 , 0.84682675, 0.89834441, 0.94986206, 1.00137972,\n",
       "        1.05289737]),\n",
       " <BarContainer object of 10 artists>)"
      ]
     },
     "execution_count": 36,
     "metadata": {},
     "output_type": "execute_result"
    },
    {
     "data": {
      "image/png": "[encoded data removed]",
      "text/plain": [
       "<Figure size 640x480 with 1 Axes>"
      ]
     },
     "metadata": {},
     "output_type": "display_data"
    }
   ],
   "source": [
    "import numpy as np\n"
   ]
  }
 ],
 "metadata": {
  "kernelspec": {
   "display_name": "Python 3 (ipykernel)",
   "language": "python",
   "name": "python3"
  },
  "language_info": {
   "codemirror_mode": {
    "name": "ipython",
    "version": 3
   },
   "file_extension": ".py",
   "mimetype": "text/x-python",
   "name": "python",
   "nbconvert_exporter": "python",
   "pygments_lexer": "ipython3",
   "version": "3.11.11"
  }
 },
 "nbformat": 4,
 "nbformat_minor": 5
}
